{
 "cells": [
  {
   "cell_type": "code",
   "execution_count": 1,
   "metadata": {},
   "outputs": [],
   "source": [
    "#Datatypes\n",
    "contador = 3\n",
    "numero_pi = 3.14159\n",
    "cadena = \"python es lo maximo\"\n",
    "flag = True"
   ]
  },
  {
   "cell_type": "code",
   "execution_count": 2,
   "metadata": {},
   "outputs": [],
   "source": [
    "#Datatypes with typing\n",
    "contador: int = 3 \n",
    "numero_pi: float = 3.14159\n",
    "cadena: str = \"python es lo maximo\"\n",
    "flag: bool = True"
   ]
  },
  {
   "cell_type": "code",
   "execution_count": 4,
   "metadata": {},
   "outputs": [
    {
     "name": "stdout",
     "output_type": "stream",
     "text": [
      "True\n",
      "True\n",
      "True\n"
     ]
    }
   ],
   "source": [
    "#Logical operator\n",
    "print(True and True)\n",
    "print(True or False)\n",
    "print(not False)"
   ]
  },
  {
   "cell_type": "code",
   "execution_count": 8,
   "metadata": {},
   "outputs": [
    {
     "name": "stdout",
     "output_type": "stream",
     "text": [
      "6\n",
      "80\n",
      "8.0\n",
      "3.5\n",
      "1\n",
      "4\n",
      "4.5\n"
     ]
    }
   ],
   "source": [
    "#Arimetic operator\n",
    "\n",
    "print(3+3)  #Suma\n",
    "print(10*8) #Multiplicacion\n",
    "print(24/3) #Division\n",
    "print(10.9-7.4) #Resta\n",
    "print(9%2)  #Modulo es el residuo\n",
    "print(9//2) #Division entera\n",
    "print(9/2)"
   ]
  },
  {
   "cell_type": "code",
   "execution_count": 9,
   "metadata": {},
   "outputs": [],
   "source": [
    "#Collections\n",
    "\n",
    "my_list = [1,2,3,4]# Es una coleccion ordenada y mutable\n",
    "my_tuple = (\"Fish\", \"Chips\") #Es una coleccion ordenada no mutable \n",
    "my_set = {\"a\", \"b\", \"c\"} #Es una coleccion no ordenada mutable solo cuando se saca o se mete valores, sin repeticiones\n",
    "my_dict = {\"name\":\"Peter\", \"last_name\":\"Smith\"} #Es una coleccion llave valor, es ordenada y mutable"
   ]
  },
  {
   "cell_type": "code",
   "execution_count": 21,
   "metadata": {},
   "outputs": [
    {
     "data": {
      "text/plain": [
       "{'name': 'Soledad', 'last_name': 'Rios'}"
      ]
     },
     "execution_count": 21,
     "metadata": {},
     "output_type": "execute_result"
    }
   ],
   "source": [
    "my_list[3]\n",
    "my_list[3] = 5\n",
    "my_list\n",
    "\n",
    "my_tuple[1] \n",
    "my_tuple\n",
    "\n",
    "my_Second_set = {\"x\", \"y\", \"z\", \"x\"}\n",
    "my_Second_set\n",
    "\n",
    "my_dict[\"last_name\"]\n",
    "\n",
    "my_second_dict = {\"name\":\"Maria\", \"name\":\"Soledad\", \"last_name\":\"Rios\"}\n",
    "my_second_dict\n"
   ]
  },
  {
   "cell_type": "code",
   "execution_count": 23,
   "metadata": {},
   "outputs": [
    {
     "name": "stdout",
     "output_type": "stream",
     "text": [
      "10 No es menor\n",
      "El equipo A gano\n"
     ]
    }
   ],
   "source": [
    "# Las tres estructuras de control: Sequence, Selection, Iteration (Este es el teorema Bohm Jacopini) \n",
    "if 10 < 4:\n",
    "    print(\"10 es menor\")\n",
    "else:\n",
    "    print(\"10 No es menor\")\n",
    "\n",
    "score_team_a = 3\n",
    "score_team_b = 1\n",
    "\n",
    "if score_team_a < score_team_b:\n",
    "    print(\"El equipo A perdio\")\n",
    "elif score_team_a > score_team_b:\n",
    "    print(\"El equipo A gano\")\n",
    "else:\n",
    "    print(\"Fue empate\")   \n"
   ]
  },
  {
   "cell_type": "code",
   "execution_count": 26,
   "metadata": {},
   "outputs": [
    {
     "name": "stdout",
     "output_type": "stream",
     "text": [
      "7\n",
      "10\n",
      "5\n",
      "0\n",
      "4\n",
      "3\n",
      "2\n",
      "1\n"
     ]
    }
   ],
   "source": [
    "my_second_list = [7,10,5,0]\n",
    "\n",
    "for i in my_second_list:\n",
    "    print(i)\n",
    "\n",
    "my_number = 4\n",
    "\n",
    "while my_number > 0:\n",
    "    print(my_number)\n",
    "    my_number -= 1"
   ]
  },
  {
   "cell_type": "code",
   "execution_count": 27,
   "metadata": {},
   "outputs": [],
   "source": [
    "import numpy as np"
   ]
  },
  {
   "cell_type": "code",
   "execution_count": 28,
   "metadata": {},
   "outputs": [
    {
     "data": {
      "text/plain": [
       "array([6, 7, 8, 9])"
      ]
     },
     "execution_count": 28,
     "metadata": {},
     "output_type": "execute_result"
    }
   ],
   "source": [
    "my_vector = np.array([6,7,8,9])\n",
    "my_vector"
   ]
  },
  {
   "cell_type": "code",
   "execution_count": 30,
   "metadata": {},
   "outputs": [
    {
     "name": "stdout",
     "output_type": "stream",
     "text": [
      "[[6 7]\n",
      " [8 9]]\n",
      "(2, 2)\n"
     ]
    }
   ],
   "source": [
    "my_vector.shape\n",
    "\n",
    "my_matrix = np.array([[6,7],[8,9]])\n",
    "print(my_matrix)\n",
    "print(my_matrix.shape)"
   ]
  }
 ],
 "metadata": {
  "kernelspec": {
   "display_name": ".venv",
   "language": "python",
   "name": "python3"
  },
  "language_info": {
   "codemirror_mode": {
    "name": "ipython",
    "version": 3
   },
   "file_extension": ".py",
   "mimetype": "text/x-python",
   "name": "python",
   "nbconvert_exporter": "python",
   "pygments_lexer": "ipython3",
   "version": "3.12.1"
  }
 },
 "nbformat": 4,
 "nbformat_minor": 2
}
